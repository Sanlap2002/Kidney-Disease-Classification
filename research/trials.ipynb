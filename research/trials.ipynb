{
 "cells": [
  {
   "cell_type": "code",
   "execution_count": 1,
   "id": "fc54d3a3-d0ba-4c28-9c4f-bb831eed8c8a",
   "metadata": {},
   "outputs": [],
   "source": [
    "import gdown"
   ]
  },
  {
   "cell_type": "code",
   "execution_count": 2,
   "id": "1e4181d2",
   "metadata": {},
   "outputs": [],
   "source": [
    "url=\"https://drive.google.com/file/d/14HVETyEgVbqx8PX5AIEfRnJrBAxP2d1W/view?usp=sharing\""
   ]
  },
  {
   "cell_type": "code",
   "execution_count": 7,
   "id": "3935b963",
   "metadata": {},
   "outputs": [],
   "source": [
    "splittedurl=url.split('/')\n"
   ]
  },
  {
   "cell_type": "code",
   "execution_count": 9,
   "id": "57ae72f1",
   "metadata": {},
   "outputs": [
    {
     "data": {
      "text/plain": [
       "'14HVETyEgVbqx8PX5AIEfRnJrBAxP2d1W'"
      ]
     },
     "execution_count": 9,
     "metadata": {},
     "output_type": "execute_result"
    }
   ],
   "source": [
    "file_id=splittedurl[-2]\n",
    "file_id"
   ]
  },
  {
   "cell_type": "code",
   "execution_count": 11,
   "id": "e8420502",
   "metadata": {},
   "outputs": [
    {
     "name": "stderr",
     "output_type": "stream",
     "text": [
      "Downloading...\n",
      "From (original): https://drive.google.com/uc?/export=download&id=14HVETyEgVbqx8PX5AIEfRnJrBAxP2d1W\n",
      "From (redirected): https://drive.google.com/uc?%2Fexport=download&id=14HVETyEgVbqx8PX5AIEfRnJrBAxP2d1W&confirm=t&uuid=73ff07e3-e309-443b-b959-d1f59053d7a0\n",
      "To: c:\\Users\\Sanlap Das\\Desktop\\ai_ml\\Kidney-Disease-Classification\\research\\Kidney-Disease.zip\n",
      "100%|██████████| 1.63G/1.63G [02:59<00:00, 9.08MB/s]\n"
     ]
    },
    {
     "data": {
      "text/plain": [
       "'Kidney-Disease.zip'"
      ]
     },
     "execution_count": 11,
     "metadata": {},
     "output_type": "execute_result"
    }
   ],
   "source": [
    "prefix=\"https://drive.google.com/uc?/export=download&id=\"\n",
    "gdown.download(prefix+file_id,\"Kidney-Disease.zip\")"
   ]
  },
  {
   "cell_type": "code",
   "execution_count": null,
   "id": "1b2dfb5d",
   "metadata": {},
   "outputs": [],
   "source": []
  }
 ],
 "metadata": {
  "kernelspec": {
   "display_name": "kidney",
   "language": "python",
   "name": "python3"
  },
  "language_info": {
   "codemirror_mode": {
    "name": "ipython",
    "version": 3
   },
   "file_extension": ".py",
   "mimetype": "text/x-python",
   "name": "python",
   "nbconvert_exporter": "python",
   "pygments_lexer": "ipython3",
   "version": "3.8.19"
  }
 },
 "nbformat": 4,
 "nbformat_minor": 5
}
